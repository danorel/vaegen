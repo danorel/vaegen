{
 "cells": [
  {
   "cell_type": "code",
   "execution_count": 1,
   "metadata": {},
   "outputs": [
    {
     "name": "stdout",
     "output_type": "stream",
     "text": [
      "AnnData object with n_obs × n_vars = 16893 × 6998\n",
      "    obs: 'condition', 'n_counts', 'n_genes', 'mt_frac', 'cell_type'\n",
      "    var: 'gene_symbol', 'n_cells'\n",
      "    uns: 'cell_type_colors', 'condition_colors', 'neighbors'\n",
      "    obsm: 'X_pca', 'X_tsne', 'X_umap'\n",
      "    obsp: 'connectivities', 'distances'\n"
     ]
    }
   ],
   "source": [
    "import os\n",
    "import anndata as ad\n",
    "import numpy as np\n",
    "import pandas as pd\n",
    "import matplotlib as plt\n",
    "\n",
    "from anndata import AnnData\n",
    "from dotenv import load_dotenv\n",
    "\n",
    "import warnings\n",
    "warnings.filterwarnings('ignore')\n",
    "\n",
    "# Initialize constants\n",
    "load_dotenv()\n",
    "CONDITION_KEY, CELL_TYPE_KEY = os.getenv('CONDITION_KEY'), os.getenv('CELL_TYPE_KEY')\n",
    "\n",
    "from load_data import get_adata\n",
    "from sc_condition_prediction import create_and_train_vae_model, evaluate_r2, N_INPUT, N_LAYERS, N_HIDDEN, N_LATENT, BATCH_SIZE\n",
    "from utils import remove_stimulated_for_celltype\n",
    "\n",
    "# Load data\n",
    "train_adata = get_adata(train=True, verbose=True)\n",
    "train_adata_no_cd4t = remove_stimulated_for_celltype(train_adata, celltype=\"CD4T\")"
   ]
  },
  {
   "cell_type": "code",
   "execution_count": 2,
   "metadata": {},
   "outputs": [
    {
     "data": {
      "text/plain": "index    AL627309.1  RP11-206L10.9     LINC00115         NOC2L        KLHL17  \\\ncount  16893.000000   16893.000000  16893.000000  16893.000000  16893.000000   \nmean       0.000203       0.000442      0.003300      0.056011      0.000991   \nstd        0.012740       0.018630      0.050151      0.204129      0.027527   \nmin        0.000000       0.000000      0.000000      0.000000      0.000000   \n25%        0.000000       0.000000      0.000000      0.000000      0.000000   \n50%        0.000000       0.000000      0.000000      0.000000      0.000000   \n75%        0.000000       0.000000      0.000000      0.000000      0.000000   \nmax        1.052949       1.027135      2.020838      2.251955      1.069814   \n\nindex          HES4         ISG15      TNFRSF18       TNFRSF4          SDF4  \\\ncount  16893.000000  16893.000000  16893.000000  16893.000000  16893.000000   \nmean       0.114630      1.799000      0.053575      0.052044      0.067051   \nstd        0.316232      1.666201      0.230176      0.226953      0.216867   \nmin        0.000000      0.000000      0.000000      0.000000      0.000000   \n25%        0.000000      0.000000      0.000000      0.000000      0.000000   \n50%        0.000000      1.736927      0.000000      0.000000      0.000000   \n75%        0.000000      3.120183      0.000000      0.000000      0.000000   \nmax        2.507464      5.472819      2.349544      2.472356      2.879868   \n\nindex  ...      C21orf67       FAM207A        ADARB1        POFUT2  \\\ncount  ...  16893.000000  16893.000000  16893.000000  16893.000000   \nmean   ...      0.000333      0.032279      0.003885      0.006159   \nstd    ...      0.017223      0.154578      0.054166      0.067945   \nmin    ...      0.000000      0.000000      0.000000      0.000000   \n25%    ...      0.000000      0.000000      0.000000      0.000000   \n50%    ...      0.000000      0.000000      0.000000      0.000000   \n75%    ...      0.000000      0.000000      0.000000      0.000000   \nmax    ...      1.468089      1.657621      2.230935      1.538911   \n\nindex       COL18A1       SLC19A1        COL6A2          FTCD         DIP2A  \\\ncount  16893.000000  16893.000000  16893.000000  16893.000000  16893.000000   \nmean       0.004496      0.002654      0.001596      0.000152      0.013051   \nstd        0.059533      0.046549      0.036505      0.011595      0.099866   \nmin        0.000000      0.000000      0.000000      0.000000      0.000000   \n25%        0.000000      0.000000      0.000000      0.000000      0.000000   \n50%        0.000000      0.000000      0.000000      0.000000      0.000000   \n75%        0.000000      0.000000      0.000000      0.000000      0.000000   \nmax        1.213284      1.514670      1.494599      0.996147      1.607041   \n\nindex         S100B  \ncount  16893.000000  \nmean       0.009183  \nstd        0.098072  \nmin        0.000000  \n25%        0.000000  \n50%        0.000000  \n75%        0.000000  \nmax        2.438123  \n\n[8 rows x 6998 columns]",
      "text/html": "<div>\n<style scoped>\n    .dataframe tbody tr th:only-of-type {\n        vertical-align: middle;\n    }\n\n    .dataframe tbody tr th {\n        vertical-align: top;\n    }\n\n    .dataframe thead th {\n        text-align: right;\n    }\n</style>\n<table border=\"1\" class=\"dataframe\">\n  <thead>\n    <tr style=\"text-align: right;\">\n      <th>index</th>\n      <th>AL627309.1</th>\n      <th>RP11-206L10.9</th>\n      <th>LINC00115</th>\n      <th>NOC2L</th>\n      <th>KLHL17</th>\n      <th>HES4</th>\n      <th>ISG15</th>\n      <th>TNFRSF18</th>\n      <th>TNFRSF4</th>\n      <th>SDF4</th>\n      <th>...</th>\n      <th>C21orf67</th>\n      <th>FAM207A</th>\n      <th>ADARB1</th>\n      <th>POFUT2</th>\n      <th>COL18A1</th>\n      <th>SLC19A1</th>\n      <th>COL6A2</th>\n      <th>FTCD</th>\n      <th>DIP2A</th>\n      <th>S100B</th>\n    </tr>\n  </thead>\n  <tbody>\n    <tr>\n      <th>count</th>\n      <td>16893.000000</td>\n      <td>16893.000000</td>\n      <td>16893.000000</td>\n      <td>16893.000000</td>\n      <td>16893.000000</td>\n      <td>16893.000000</td>\n      <td>16893.000000</td>\n      <td>16893.000000</td>\n      <td>16893.000000</td>\n      <td>16893.000000</td>\n      <td>...</td>\n      <td>16893.000000</td>\n      <td>16893.000000</td>\n      <td>16893.000000</td>\n      <td>16893.000000</td>\n      <td>16893.000000</td>\n      <td>16893.000000</td>\n      <td>16893.000000</td>\n      <td>16893.000000</td>\n      <td>16893.000000</td>\n      <td>16893.000000</td>\n    </tr>\n    <tr>\n      <th>mean</th>\n      <td>0.000203</td>\n      <td>0.000442</td>\n      <td>0.003300</td>\n      <td>0.056011</td>\n      <td>0.000991</td>\n      <td>0.114630</td>\n      <td>1.799000</td>\n      <td>0.053575</td>\n      <td>0.052044</td>\n      <td>0.067051</td>\n      <td>...</td>\n      <td>0.000333</td>\n      <td>0.032279</td>\n      <td>0.003885</td>\n      <td>0.006159</td>\n      <td>0.004496</td>\n      <td>0.002654</td>\n      <td>0.001596</td>\n      <td>0.000152</td>\n      <td>0.013051</td>\n      <td>0.009183</td>\n    </tr>\n    <tr>\n      <th>std</th>\n      <td>0.012740</td>\n      <td>0.018630</td>\n      <td>0.050151</td>\n      <td>0.204129</td>\n      <td>0.027527</td>\n      <td>0.316232</td>\n      <td>1.666201</td>\n      <td>0.230176</td>\n      <td>0.226953</td>\n      <td>0.216867</td>\n      <td>...</td>\n      <td>0.017223</td>\n      <td>0.154578</td>\n      <td>0.054166</td>\n      <td>0.067945</td>\n      <td>0.059533</td>\n      <td>0.046549</td>\n      <td>0.036505</td>\n      <td>0.011595</td>\n      <td>0.099866</td>\n      <td>0.098072</td>\n    </tr>\n    <tr>\n      <th>min</th>\n      <td>0.000000</td>\n      <td>0.000000</td>\n      <td>0.000000</td>\n      <td>0.000000</td>\n      <td>0.000000</td>\n      <td>0.000000</td>\n      <td>0.000000</td>\n      <td>0.000000</td>\n      <td>0.000000</td>\n      <td>0.000000</td>\n      <td>...</td>\n      <td>0.000000</td>\n      <td>0.000000</td>\n      <td>0.000000</td>\n      <td>0.000000</td>\n      <td>0.000000</td>\n      <td>0.000000</td>\n      <td>0.000000</td>\n      <td>0.000000</td>\n      <td>0.000000</td>\n      <td>0.000000</td>\n    </tr>\n    <tr>\n      <th>25%</th>\n      <td>0.000000</td>\n      <td>0.000000</td>\n      <td>0.000000</td>\n      <td>0.000000</td>\n      <td>0.000000</td>\n      <td>0.000000</td>\n      <td>0.000000</td>\n      <td>0.000000</td>\n      <td>0.000000</td>\n      <td>0.000000</td>\n      <td>...</td>\n      <td>0.000000</td>\n      <td>0.000000</td>\n      <td>0.000000</td>\n      <td>0.000000</td>\n      <td>0.000000</td>\n      <td>0.000000</td>\n      <td>0.000000</td>\n      <td>0.000000</td>\n      <td>0.000000</td>\n      <td>0.000000</td>\n    </tr>\n    <tr>\n      <th>50%</th>\n      <td>0.000000</td>\n      <td>0.000000</td>\n      <td>0.000000</td>\n      <td>0.000000</td>\n      <td>0.000000</td>\n      <td>0.000000</td>\n      <td>1.736927</td>\n      <td>0.000000</td>\n      <td>0.000000</td>\n      <td>0.000000</td>\n      <td>...</td>\n      <td>0.000000</td>\n      <td>0.000000</td>\n      <td>0.000000</td>\n      <td>0.000000</td>\n      <td>0.000000</td>\n      <td>0.000000</td>\n      <td>0.000000</td>\n      <td>0.000000</td>\n      <td>0.000000</td>\n      <td>0.000000</td>\n    </tr>\n    <tr>\n      <th>75%</th>\n      <td>0.000000</td>\n      <td>0.000000</td>\n      <td>0.000000</td>\n      <td>0.000000</td>\n      <td>0.000000</td>\n      <td>0.000000</td>\n      <td>3.120183</td>\n      <td>0.000000</td>\n      <td>0.000000</td>\n      <td>0.000000</td>\n      <td>...</td>\n      <td>0.000000</td>\n      <td>0.000000</td>\n      <td>0.000000</td>\n      <td>0.000000</td>\n      <td>0.000000</td>\n      <td>0.000000</td>\n      <td>0.000000</td>\n      <td>0.000000</td>\n      <td>0.000000</td>\n      <td>0.000000</td>\n    </tr>\n    <tr>\n      <th>max</th>\n      <td>1.052949</td>\n      <td>1.027135</td>\n      <td>2.020838</td>\n      <td>2.251955</td>\n      <td>1.069814</td>\n      <td>2.507464</td>\n      <td>5.472819</td>\n      <td>2.349544</td>\n      <td>2.472356</td>\n      <td>2.879868</td>\n      <td>...</td>\n      <td>1.468089</td>\n      <td>1.657621</td>\n      <td>2.230935</td>\n      <td>1.538911</td>\n      <td>1.213284</td>\n      <td>1.514670</td>\n      <td>1.494599</td>\n      <td>0.996147</td>\n      <td>1.607041</td>\n      <td>2.438123</td>\n    </tr>\n  </tbody>\n</table>\n<p>8 rows × 6998 columns</p>\n</div>"
     },
     "execution_count": 2,
     "metadata": {},
     "output_type": "execute_result"
    }
   ],
   "source": [
    "train_adata.to_df().describe()"
   ]
  },
  {
   "cell_type": "code",
   "execution_count": 3,
   "metadata": {},
   "outputs": [],
   "source": [
    "def make_subsets_from_adata(adata: AnnData, verbose=False):\n",
    "    cell_types = adata.obs[CELL_TYPE_KEY].cat.categories.values\n",
    "    if verbose:\n",
    "        print(f\"Unique cell types: {cell_types}\")\n",
    "    adata_by_cell_type = [ \n",
    "        adata[adata.obs[CELL_TYPE_KEY] == cell_type]\n",
    "        for cell_type in cell_types\n",
    "    ]\n",
    "    if verbose:\n",
    "        print(f\"AnnData objects by cell types: {adata_by_cell_type}\")\n",
    "    from itertools import combinations\n",
    "    adata_subsets = []\n",
    "    for i in range(1, len(adata_by_cell_type) + 1):  # to get all subsets: from 1 to size (omitting 0 subset)\n",
    "        for adata_subset in combinations(adata_by_cell_type, i):\n",
    "            adata_subsets.append(adata_subset)\n",
    "    return adata_subsets"
   ]
  },
  {
   "cell_type": "code",
   "execution_count": 4,
   "metadata": {},
   "outputs": [
    {
     "name": "stdout",
     "output_type": "stream",
     "text": [
      "Unique cell types: ['CD4T' 'CD14+Mono' 'B' 'CD8T' 'NK' 'FCGR3A+Mono' 'Dendritic']\n",
      "AnnData objects by cell types: [View of AnnData object with n_obs × n_vars = 5564 × 6998\n",
      "    obs: 'condition', 'n_counts', 'n_genes', 'mt_frac', 'cell_type'\n",
      "    var: 'gene_symbol', 'n_cells'\n",
      "    uns: 'cell_type_colors', 'condition_colors', 'neighbors'\n",
      "    obsm: 'X_pca', 'X_tsne', 'X_umap'\n",
      "    obsp: 'connectivities', 'distances', View of AnnData object with n_obs × n_vars = 2561 × 6998\n",
      "    obs: 'condition', 'n_counts', 'n_genes', 'mt_frac', 'cell_type'\n",
      "    var: 'gene_symbol', 'n_cells'\n",
      "    uns: 'cell_type_colors', 'condition_colors', 'neighbors'\n",
      "    obsm: 'X_pca', 'X_tsne', 'X_umap'\n",
      "    obsp: 'connectivities', 'distances', View of AnnData object with n_obs × n_vars = 1811 × 6998\n",
      "    obs: 'condition', 'n_counts', 'n_genes', 'mt_frac', 'cell_type'\n",
      "    var: 'gene_symbol', 'n_cells'\n",
      "    uns: 'cell_type_colors', 'condition_colors', 'neighbors'\n",
      "    obsm: 'X_pca', 'X_tsne', 'X_umap'\n",
      "    obsp: 'connectivities', 'distances', View of AnnData object with n_obs × n_vars = 1115 × 6998\n",
      "    obs: 'condition', 'n_counts', 'n_genes', 'mt_frac', 'cell_type'\n",
      "    var: 'gene_symbol', 'n_cells'\n",
      "    uns: 'cell_type_colors', 'condition_colors', 'neighbors'\n",
      "    obsm: 'X_pca', 'X_tsne', 'X_umap'\n",
      "    obsp: 'connectivities', 'distances', View of AnnData object with n_obs × n_vars = 1163 × 6998\n",
      "    obs: 'condition', 'n_counts', 'n_genes', 'mt_frac', 'cell_type'\n",
      "    var: 'gene_symbol', 'n_cells'\n",
      "    uns: 'cell_type_colors', 'condition_colors', 'neighbors'\n",
      "    obsm: 'X_pca', 'X_tsne', 'X_umap'\n",
      "    obsp: 'connectivities', 'distances', View of AnnData object with n_obs × n_vars = 3601 × 6998\n",
      "    obs: 'condition', 'n_counts', 'n_genes', 'mt_frac', 'cell_type'\n",
      "    var: 'gene_symbol', 'n_cells'\n",
      "    uns: 'cell_type_colors', 'condition_colors', 'neighbors'\n",
      "    obsm: 'X_pca', 'X_tsne', 'X_umap'\n",
      "    obsp: 'connectivities', 'distances', View of AnnData object with n_obs × n_vars = 1078 × 6998\n",
      "    obs: 'condition', 'n_counts', 'n_genes', 'mt_frac', 'cell_type'\n",
      "    var: 'gene_symbol', 'n_cells'\n",
      "    uns: 'cell_type_colors', 'condition_colors', 'neighbors'\n",
      "    obsm: 'X_pca', 'X_tsne', 'X_umap'\n",
      "    obsp: 'connectivities', 'distances']\n"
     ]
    }
   ],
   "source": [
    "subsets_adata_by_cell_type = make_subsets_from_adata(train_adata, verbose=True)"
   ]
  },
  {
   "cell_type": "code",
   "execution_count": null,
   "metadata": {
    "pycharm": {
     "is_executing": true
    }
   },
   "outputs": [
    {
     "name": "stdout",
     "output_type": "stream",
     "text": [
      "Step 29/127\n",
      "Step 30/127\n",
      "Step 31/127\n",
      "Step 32/127\n",
      "Step 33/127\n",
      "Step 34/127\n",
      "Step 35/127\n",
      "Step 36/127\n",
      "Step 37/127\n",
      "Step 38/127\n",
      "Step 39/127\n",
      "Step 40/127\n",
      "Step 41/127\n",
      "Step 42/127\n",
      "Step 43/127\n",
      "Step 44/127\n",
      "Step 45/127\n",
      "Step 46/127\n",
      "Step 47/127\n",
      "Step 48/127\n"
     ]
    }
   ],
   "source": [
    "model_directory = os.path.join(\"models\", \"subsets_test\")\n",
    "\n",
    "if not os.path.exists(model_directory):\n",
    "    os.makedirs(model_directory)\n",
    "\n",
    "n_steps = len(subsets_adata_by_cell_type)\n",
    "\n",
    "df_results = pd.DataFrame(data=np.zeros((n_steps, 2)), index=np.arange(n_steps), columns=['r2', 'r2_diff_genes'])\n",
    "\n",
    "for i, subset_adata_by_cell_type in enumerate(subsets_adata_by_cell_type):\n",
    "    print(f\"Step {i}/{n_steps}\")\n",
    "    adata_sample = ad.concat(list(subset_adata_by_cell_type), join=\"outer\")\n",
    "    params_filename = os.path.join(model_directory, f\"{i}_autoencoder.pt\")\n",
    "    create_and_train_vae_model(adata_sample,\n",
    "                               epochs=15,\n",
    "                               save_params_to_filename=params_filename)\n",
    "    r2, r2_diff_genes = evaluate_r2(params_filename)\n",
    "    df_results.loc[i, [\"r2\", \"r2_diff_genes\"]] = [r2, r2_diff_genes]"
   ]
  },
  {
   "cell_type": "code",
   "execution_count": null,
   "metadata": {
    "pycharm": {
     "is_executing": true
    }
   },
   "outputs": [],
   "source": [
    "df_results.plot(y=['r2', 'r2_diff_genes'], kind='line');\n",
    "plt.title('Impact of cell type subsetting on model score')\n",
    "plt.xlabel('step')\n",
    "plt.ylabel('$R^2$');"
   ]
  }
 ],
 "metadata": {
  "kernelspec": {
   "display_name": "Python 3 (ipykernel)",
   "language": "python",
   "name": "python3"
  },
  "language_info": {
   "codemirror_mode": {
    "name": "ipython",
    "version": 3
   },
   "file_extension": ".py",
   "mimetype": "text/x-python",
   "name": "python",
   "nbconvert_exporter": "python",
   "pygments_lexer": "ipython3",
   "version": "3.9.12"
  }
 },
 "nbformat": 4,
 "nbformat_minor": 1
}
