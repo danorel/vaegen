{
 "cells": [
  {
   "cell_type": "code",
   "execution_count": 19,
   "metadata": {
    "collapsed": true
   },
   "outputs": [
    {
     "name": "stdout",
     "output_type": "stream",
     "text": [
      "control\n"
     ]
    },
    {
     "ename": "KeyError",
     "evalue": "'controlled'",
     "output_type": "error",
     "traceback": [
      "\u001B[0;31m---------------------------------------------------------------------------\u001B[0m",
      "\u001B[0;31mKeyError\u001B[0m                                  Traceback (most recent call last)",
      "File \u001B[0;32m~/Workspace/Education/University/Toronto/vaegen/venv/lib/python3.9/site-packages/pandas/core/indexes/base.py:3803\u001B[0m, in \u001B[0;36mIndex.get_loc\u001B[0;34m(self, key, method, tolerance)\u001B[0m\n\u001B[1;32m   3802\u001B[0m \u001B[38;5;28;01mtry\u001B[39;00m:\n\u001B[0;32m-> 3803\u001B[0m     \u001B[38;5;28;01mreturn\u001B[39;00m \u001B[38;5;28;43mself\u001B[39;49m\u001B[38;5;241;43m.\u001B[39;49m\u001B[43m_engine\u001B[49m\u001B[38;5;241;43m.\u001B[39;49m\u001B[43mget_loc\u001B[49m\u001B[43m(\u001B[49m\u001B[43mcasted_key\u001B[49m\u001B[43m)\u001B[49m\n\u001B[1;32m   3804\u001B[0m \u001B[38;5;28;01mexcept\u001B[39;00m \u001B[38;5;167;01mKeyError\u001B[39;00m \u001B[38;5;28;01mas\u001B[39;00m err:\n",
      "File \u001B[0;32m~/Workspace/Education/University/Toronto/vaegen/venv/lib/python3.9/site-packages/pandas/_libs/index.pyx:138\u001B[0m, in \u001B[0;36mpandas._libs.index.IndexEngine.get_loc\u001B[0;34m()\u001B[0m\n",
      "File \u001B[0;32m~/Workspace/Education/University/Toronto/vaegen/venv/lib/python3.9/site-packages/pandas/_libs/index.pyx:165\u001B[0m, in \u001B[0;36mpandas._libs.index.IndexEngine.get_loc\u001B[0;34m()\u001B[0m\n",
      "File \u001B[0;32mpandas/_libs/hashtable_class_helper.pxi:5745\u001B[0m, in \u001B[0;36mpandas._libs.hashtable.PyObjectHashTable.get_item\u001B[0;34m()\u001B[0m\n",
      "File \u001B[0;32mpandas/_libs/hashtable_class_helper.pxi:5753\u001B[0m, in \u001B[0;36mpandas._libs.hashtable.PyObjectHashTable.get_item\u001B[0;34m()\u001B[0m\n",
      "\u001B[0;31mKeyError\u001B[0m: 'controlled'",
      "\nThe above exception was the direct cause of the following exception:\n",
      "\u001B[0;31mKeyError\u001B[0m                                  Traceback (most recent call last)",
      "Cell \u001B[0;32mIn [19], line 15\u001B[0m\n\u001B[1;32m     12\u001B[0m \u001B[38;5;28mprint\u001B[39m(os\u001B[38;5;241m.\u001B[39mgetenv(\u001B[38;5;124m'\u001B[39m\u001B[38;5;124mCONTROL_KEY\u001B[39m\u001B[38;5;124m'\u001B[39m))\n\u001B[1;32m     14\u001B[0m \u001B[38;5;28;01mfrom\u001B[39;00m \u001B[38;5;21;01mload_data\u001B[39;00m \u001B[38;5;28;01mimport\u001B[39;00m get_adata\n\u001B[0;32m---> 15\u001B[0m \u001B[38;5;28;01mfrom\u001B[39;00m \u001B[38;5;21;01msc_condition_prediction\u001B[39;00m \u001B[38;5;28;01mimport\u001B[39;00m create_and_train_vae_model, evaluate_r2, N_INPUT, N_LAYERS, N_HIDDEN, N_LATENT, BATCH_SIZE\n\u001B[1;32m     16\u001B[0m \u001B[38;5;66;03m# from utils import remove_stimulated_for_celltype\u001B[39;00m\n\u001B[1;32m     17\u001B[0m \n\u001B[1;32m     18\u001B[0m \u001B[38;5;66;03m# Load data\u001B[39;00m\n\u001B[1;32m     19\u001B[0m \u001B[38;5;66;03m# train_adata = get_adata(verbose=True)\u001B[39;00m\n\u001B[1;32m     20\u001B[0m \u001B[38;5;66;03m# train_new = remove_stimulated_for_celltype(train_adata, celltype=\"CD4T\")\u001B[39;00m\n",
      "File \u001B[0;32m~/Workspace/Education/University/Toronto/vaegen/sc_condition_prediction.py:17\u001B[0m\n\u001B[1;32m     15\u001B[0m \u001B[38;5;66;03m# Loading AnnData dataset with single-cell data \u001B[39;00m\n\u001B[1;32m     16\u001B[0m train_adata \u001B[38;5;241m=\u001B[39m get_adata(dataset\u001B[38;5;241m=\u001B[39m\u001B[38;5;124m\"\u001B[39m\u001B[38;5;124mkang\u001B[39m\u001B[38;5;124m\"\u001B[39m, train\u001B[38;5;241m=\u001B[39m\u001B[38;5;28;01mTrue\u001B[39;00m)\n\u001B[0;32m---> 17\u001B[0m train_new \u001B[38;5;241m=\u001B[39m \u001B[43mremove_stimulated_for_celltype\u001B[49m\u001B[43m(\u001B[49m\u001B[43mtrain_adata\u001B[49m\u001B[43m,\u001B[49m\u001B[43m \u001B[49m\u001B[43mcelltype\u001B[49m\u001B[38;5;241;43m=\u001B[39;49m\u001B[38;5;124;43m\"\u001B[39;49m\u001B[38;5;124;43mCD4T\u001B[39;49m\u001B[38;5;124;43m\"\u001B[39;49m\u001B[43m)\u001B[49m\n\u001B[1;32m     19\u001B[0m \u001B[38;5;66;03m# Initializing constants\u001B[39;00m\n\u001B[1;32m     20\u001B[0m load_dotenv()\n",
      "File \u001B[0;32m~/Workspace/Education/University/Toronto/vaegen/utils.py:20\u001B[0m, in \u001B[0;36mremove_stimulated_for_celltype\u001B[0;34m(adata, celltype)\u001B[0m\n\u001B[1;32m     18\u001B[0m \u001B[38;5;28;01mdef\u001B[39;00m \u001B[38;5;21mremove_stimulated_for_celltype\u001B[39m(adata, celltype):\n\u001B[1;32m     19\u001B[0m     \u001B[38;5;28;01mreturn\u001B[39;00m adata[\u001B[38;5;241m~\u001B[39m((adata\u001B[38;5;241m.\u001B[39mobs[CELL_TYPE_KEY] \u001B[38;5;241m==\u001B[39m celltype) \u001B[38;5;241m&\u001B[39m\n\u001B[0;32m---> 20\u001B[0m                     (\u001B[43madata\u001B[49m\u001B[38;5;241;43m.\u001B[39;49m\u001B[43mobs\u001B[49m\u001B[43m[\u001B[49m\u001B[43mCONDITION_KEY\u001B[49m\u001B[43m]\u001B[49m \u001B[38;5;241m==\u001B[39m \u001B[38;5;124m\"\u001B[39m\u001B[38;5;124mstimulated\u001B[39m\u001B[38;5;124m\"\u001B[39m))]\u001B[38;5;241m.\u001B[39mcopy()\n",
      "File \u001B[0;32m~/Workspace/Education/University/Toronto/vaegen/venv/lib/python3.9/site-packages/pandas/core/frame.py:3805\u001B[0m, in \u001B[0;36mDataFrame.__getitem__\u001B[0;34m(self, key)\u001B[0m\n\u001B[1;32m   3803\u001B[0m \u001B[38;5;28;01mif\u001B[39;00m \u001B[38;5;28mself\u001B[39m\u001B[38;5;241m.\u001B[39mcolumns\u001B[38;5;241m.\u001B[39mnlevels \u001B[38;5;241m>\u001B[39m \u001B[38;5;241m1\u001B[39m:\n\u001B[1;32m   3804\u001B[0m     \u001B[38;5;28;01mreturn\u001B[39;00m \u001B[38;5;28mself\u001B[39m\u001B[38;5;241m.\u001B[39m_getitem_multilevel(key)\n\u001B[0;32m-> 3805\u001B[0m indexer \u001B[38;5;241m=\u001B[39m \u001B[38;5;28;43mself\u001B[39;49m\u001B[38;5;241;43m.\u001B[39;49m\u001B[43mcolumns\u001B[49m\u001B[38;5;241;43m.\u001B[39;49m\u001B[43mget_loc\u001B[49m\u001B[43m(\u001B[49m\u001B[43mkey\u001B[49m\u001B[43m)\u001B[49m\n\u001B[1;32m   3806\u001B[0m \u001B[38;5;28;01mif\u001B[39;00m is_integer(indexer):\n\u001B[1;32m   3807\u001B[0m     indexer \u001B[38;5;241m=\u001B[39m [indexer]\n",
      "File \u001B[0;32m~/Workspace/Education/University/Toronto/vaegen/venv/lib/python3.9/site-packages/pandas/core/indexes/base.py:3805\u001B[0m, in \u001B[0;36mIndex.get_loc\u001B[0;34m(self, key, method, tolerance)\u001B[0m\n\u001B[1;32m   3803\u001B[0m     \u001B[38;5;28;01mreturn\u001B[39;00m \u001B[38;5;28mself\u001B[39m\u001B[38;5;241m.\u001B[39m_engine\u001B[38;5;241m.\u001B[39mget_loc(casted_key)\n\u001B[1;32m   3804\u001B[0m \u001B[38;5;28;01mexcept\u001B[39;00m \u001B[38;5;167;01mKeyError\u001B[39;00m \u001B[38;5;28;01mas\u001B[39;00m err:\n\u001B[0;32m-> 3805\u001B[0m     \u001B[38;5;28;01mraise\u001B[39;00m \u001B[38;5;167;01mKeyError\u001B[39;00m(key) \u001B[38;5;28;01mfrom\u001B[39;00m \u001B[38;5;21;01merr\u001B[39;00m\n\u001B[1;32m   3806\u001B[0m \u001B[38;5;28;01mexcept\u001B[39;00m \u001B[38;5;167;01mTypeError\u001B[39;00m:\n\u001B[1;32m   3807\u001B[0m     \u001B[38;5;66;03m# If we have a listlike key, _check_indexing_error will raise\u001B[39;00m\n\u001B[1;32m   3808\u001B[0m     \u001B[38;5;66;03m#  InvalidIndexError. Otherwise we fall through and re-raise\u001B[39;00m\n\u001B[1;32m   3809\u001B[0m     \u001B[38;5;66;03m#  the TypeError.\u001B[39;00m\n\u001B[1;32m   3810\u001B[0m     \u001B[38;5;28mself\u001B[39m\u001B[38;5;241m.\u001B[39m_check_indexing_error(key)\n",
      "\u001B[0;31mKeyError\u001B[0m: 'controlled'"
     ]
    }
   ],
   "source": [
    "import os\n",
    "import scanpy as sc\n",
    "from dotenv import load_dotenv\n",
    "\n",
    "import warnings\n",
    "warnings.filterwarnings('ignore')\n",
    "\n",
    "# Initialize constants\n",
    "load_dotenv()\n",
    "CONDITION_KEY, CELL_TYPE_KEY = os.getenv('CONDITION_KEY'), os.getenv('CELL_TYPE_KEY')\n",
    "\n",
    "from load_data import get_adata\n",
    "from sc_condition_prediction import create_and_train_vae_model, evaluate_r2, N_INPUT, N_LAYERS, N_HIDDEN, N_LATENT, BATCH_SIZE\n",
    "# from utils import remove_stimulated_for_celltype\n",
    "\n",
    "# Load data\n",
    "# train_adata = get_adata(verbose=True)\n",
    "# train_new = remove_stimulated_for_celltype(train_adata, celltype=\"CD4T\")"
   ]
  },
  {
   "cell_type": "code",
   "execution_count": null,
   "outputs": [],
   "source": [
    "train_adata.obs"
   ],
   "metadata": {
    "collapsed": false
   }
  },
  {
   "cell_type": "code",
   "execution_count": 30,
   "outputs": [],
   "source": [
    "train_adata_by_cell_type = {}\n",
    "\n",
    "cell_types = train_adata.obs.cell_type.cat.categories.values\n",
    "\n",
    "for cell_type in cell_types:\n",
    "    train_adata_by_cell_type[cell_type] = train_adata[train_adata.obs.cell_type == cell_type]"
   ],
   "metadata": {
    "collapsed": false
   }
  },
  {
   "cell_type": "code",
   "execution_count": 31,
   "outputs": [
    {
     "data": {
      "text/plain": "{'CD4T': View of AnnData object with n_obs × n_vars = 5564 × 6998\n     obs: 'condition', 'n_counts', 'n_genes', 'mt_frac', 'cell_type'\n     var: 'gene_symbol', 'n_cells'\n     uns: 'cell_type_colors', 'condition_colors', 'neighbors'\n     obsm: 'X_pca', 'X_tsne', 'X_umap'\n     obsp: 'distances', 'connectivities',\n 'CD14+Mono': View of AnnData object with n_obs × n_vars = 2561 × 6998\n     obs: 'condition', 'n_counts', 'n_genes', 'mt_frac', 'cell_type'\n     var: 'gene_symbol', 'n_cells'\n     uns: 'cell_type_colors', 'condition_colors', 'neighbors'\n     obsm: 'X_pca', 'X_tsne', 'X_umap'\n     obsp: 'distances', 'connectivities',\n 'B': View of AnnData object with n_obs × n_vars = 1811 × 6998\n     obs: 'condition', 'n_counts', 'n_genes', 'mt_frac', 'cell_type'\n     var: 'gene_symbol', 'n_cells'\n     uns: 'cell_type_colors', 'condition_colors', 'neighbors'\n     obsm: 'X_pca', 'X_tsne', 'X_umap'\n     obsp: 'distances', 'connectivities',\n 'CD8T': View of AnnData object with n_obs × n_vars = 1115 × 6998\n     obs: 'condition', 'n_counts', 'n_genes', 'mt_frac', 'cell_type'\n     var: 'gene_symbol', 'n_cells'\n     uns: 'cell_type_colors', 'condition_colors', 'neighbors'\n     obsm: 'X_pca', 'X_tsne', 'X_umap'\n     obsp: 'distances', 'connectivities',\n 'NK': View of AnnData object with n_obs × n_vars = 1163 × 6998\n     obs: 'condition', 'n_counts', 'n_genes', 'mt_frac', 'cell_type'\n     var: 'gene_symbol', 'n_cells'\n     uns: 'cell_type_colors', 'condition_colors', 'neighbors'\n     obsm: 'X_pca', 'X_tsne', 'X_umap'\n     obsp: 'distances', 'connectivities',\n 'FCGR3A+Mono': View of AnnData object with n_obs × n_vars = 3601 × 6998\n     obs: 'condition', 'n_counts', 'n_genes', 'mt_frac', 'cell_type'\n     var: 'gene_symbol', 'n_cells'\n     uns: 'cell_type_colors', 'condition_colors', 'neighbors'\n     obsm: 'X_pca', 'X_tsne', 'X_umap'\n     obsp: 'distances', 'connectivities',\n 'Dendritic': View of AnnData object with n_obs × n_vars = 1078 × 6998\n     obs: 'condition', 'n_counts', 'n_genes', 'mt_frac', 'cell_type'\n     var: 'gene_symbol', 'n_cells'\n     uns: 'cell_type_colors', 'condition_colors', 'neighbors'\n     obsm: 'X_pca', 'X_tsne', 'X_umap'\n     obsp: 'distances', 'connectivities'}"
     },
     "execution_count": 31,
     "metadata": {},
     "output_type": "execute_result"
    }
   ],
   "source": [
    "train_adata_by_cell_type"
   ],
   "metadata": {
    "collapsed": false
   }
  },
  {
   "cell_type": "code",
   "execution_count": 32,
   "outputs": [
    {
     "data": {
      "text/plain": "index   AL627309.1  RP11-206L10.9    LINC00115        NOC2L       KLHL17  \\\ncount  5564.000000    5564.000000  5564.000000  5564.000000  5564.000000   \nmean      0.000290       0.000295     0.004717     0.081097     0.000599   \nstd       0.015311       0.015755     0.063308     0.254489     0.022557   \nmin       0.000000       0.000000     0.000000     0.000000     0.000000   \n25%       0.000000       0.000000     0.000000     0.000000     0.000000   \n50%       0.000000       0.000000     0.000000     0.000000     0.000000   \n75%       0.000000       0.000000     0.000000     0.000000     0.000000   \nmax       0.823251       0.953000     1.159003     2.176398     0.927066   \n\nindex         HES4        ISG15     TNFRSF18      TNFRSF4         SDF4  ...  \\\ncount  5564.000000  5564.000000  5564.000000  5564.000000  5564.000000  ...   \nmean      0.024535     1.396227     0.040431     0.091370     0.064878  ...   \nstd       0.154765     1.192688     0.189054     0.297386     0.230153  ...   \nmin       0.000000     0.000000     0.000000     0.000000     0.000000  ...   \n25%       0.000000     0.000000     0.000000     0.000000     0.000000  ...   \n50%       0.000000     1.626387     0.000000     0.000000     0.000000  ...   \n75%       0.000000     2.427323     0.000000     0.000000     0.000000  ...   \nmax       2.231160     5.175874     1.898126     2.472356     2.879868  ...   \n\nindex     C21orf67      FAM207A       ADARB1       POFUT2      COL18A1  \\\ncount  5564.000000  5564.000000  5564.000000  5564.000000  5564.000000   \nmean      0.000406     0.043993     0.004070     0.009166     0.009337   \nstd       0.022359     0.187557     0.057041     0.087452     0.087252   \nmin       0.000000     0.000000     0.000000     0.000000     0.000000   \n25%       0.000000     0.000000     0.000000     0.000000     0.000000   \n50%       0.000000     0.000000     0.000000     0.000000     0.000000   \n75%       0.000000     0.000000     0.000000     0.000000     0.000000   \nmax       1.468089     1.580605     1.017806     1.538911     1.213284   \n\nindex      SLC19A1       COL6A2         FTCD        DIP2A        S100B  \ncount  5564.000000  5564.000000  5564.000000  5564.000000  5564.000000  \nmean      0.004598     0.001317     0.000346     0.020588     0.021828  \nstd       0.064468     0.036036     0.018251     0.131128     0.152459  \nmin       0.000000     0.000000     0.000000     0.000000     0.000000  \n25%       0.000000     0.000000     0.000000     0.000000     0.000000  \n50%       0.000000     0.000000     0.000000     0.000000     0.000000  \n75%       0.000000     0.000000     0.000000     0.000000     0.000000  \nmax       1.514670     1.494599     0.996147     1.607041     2.438123  \n\n[8 rows x 6998 columns]",
      "text/html": "<div>\n<style scoped>\n    .dataframe tbody tr th:only-of-type {\n        vertical-align: middle;\n    }\n\n    .dataframe tbody tr th {\n        vertical-align: top;\n    }\n\n    .dataframe thead th {\n        text-align: right;\n    }\n</style>\n<table border=\"1\" class=\"dataframe\">\n  <thead>\n    <tr style=\"text-align: right;\">\n      <th>index</th>\n      <th>AL627309.1</th>\n      <th>RP11-206L10.9</th>\n      <th>LINC00115</th>\n      <th>NOC2L</th>\n      <th>KLHL17</th>\n      <th>HES4</th>\n      <th>ISG15</th>\n      <th>TNFRSF18</th>\n      <th>TNFRSF4</th>\n      <th>SDF4</th>\n      <th>...</th>\n      <th>C21orf67</th>\n      <th>FAM207A</th>\n      <th>ADARB1</th>\n      <th>POFUT2</th>\n      <th>COL18A1</th>\n      <th>SLC19A1</th>\n      <th>COL6A2</th>\n      <th>FTCD</th>\n      <th>DIP2A</th>\n      <th>S100B</th>\n    </tr>\n  </thead>\n  <tbody>\n    <tr>\n      <th>count</th>\n      <td>5564.000000</td>\n      <td>5564.000000</td>\n      <td>5564.000000</td>\n      <td>5564.000000</td>\n      <td>5564.000000</td>\n      <td>5564.000000</td>\n      <td>5564.000000</td>\n      <td>5564.000000</td>\n      <td>5564.000000</td>\n      <td>5564.000000</td>\n      <td>...</td>\n      <td>5564.000000</td>\n      <td>5564.000000</td>\n      <td>5564.000000</td>\n      <td>5564.000000</td>\n      <td>5564.000000</td>\n      <td>5564.000000</td>\n      <td>5564.000000</td>\n      <td>5564.000000</td>\n      <td>5564.000000</td>\n      <td>5564.000000</td>\n    </tr>\n    <tr>\n      <th>mean</th>\n      <td>0.000290</td>\n      <td>0.000295</td>\n      <td>0.004717</td>\n      <td>0.081097</td>\n      <td>0.000599</td>\n      <td>0.024535</td>\n      <td>1.396227</td>\n      <td>0.040431</td>\n      <td>0.091370</td>\n      <td>0.064878</td>\n      <td>...</td>\n      <td>0.000406</td>\n      <td>0.043993</td>\n      <td>0.004070</td>\n      <td>0.009166</td>\n      <td>0.009337</td>\n      <td>0.004598</td>\n      <td>0.001317</td>\n      <td>0.000346</td>\n      <td>0.020588</td>\n      <td>0.021828</td>\n    </tr>\n    <tr>\n      <th>std</th>\n      <td>0.015311</td>\n      <td>0.015755</td>\n      <td>0.063308</td>\n      <td>0.254489</td>\n      <td>0.022557</td>\n      <td>0.154765</td>\n      <td>1.192688</td>\n      <td>0.189054</td>\n      <td>0.297386</td>\n      <td>0.230153</td>\n      <td>...</td>\n      <td>0.022359</td>\n      <td>0.187557</td>\n      <td>0.057041</td>\n      <td>0.087452</td>\n      <td>0.087252</td>\n      <td>0.064468</td>\n      <td>0.036036</td>\n      <td>0.018251</td>\n      <td>0.131128</td>\n      <td>0.152459</td>\n    </tr>\n    <tr>\n      <th>min</th>\n      <td>0.000000</td>\n      <td>0.000000</td>\n      <td>0.000000</td>\n      <td>0.000000</td>\n      <td>0.000000</td>\n      <td>0.000000</td>\n      <td>0.000000</td>\n      <td>0.000000</td>\n      <td>0.000000</td>\n      <td>0.000000</td>\n      <td>...</td>\n      <td>0.000000</td>\n      <td>0.000000</td>\n      <td>0.000000</td>\n      <td>0.000000</td>\n      <td>0.000000</td>\n      <td>0.000000</td>\n      <td>0.000000</td>\n      <td>0.000000</td>\n      <td>0.000000</td>\n      <td>0.000000</td>\n    </tr>\n    <tr>\n      <th>25%</th>\n      <td>0.000000</td>\n      <td>0.000000</td>\n      <td>0.000000</td>\n      <td>0.000000</td>\n      <td>0.000000</td>\n      <td>0.000000</td>\n      <td>0.000000</td>\n      <td>0.000000</td>\n      <td>0.000000</td>\n      <td>0.000000</td>\n      <td>...</td>\n      <td>0.000000</td>\n      <td>0.000000</td>\n      <td>0.000000</td>\n      <td>0.000000</td>\n      <td>0.000000</td>\n      <td>0.000000</td>\n      <td>0.000000</td>\n      <td>0.000000</td>\n      <td>0.000000</td>\n      <td>0.000000</td>\n    </tr>\n    <tr>\n      <th>50%</th>\n      <td>0.000000</td>\n      <td>0.000000</td>\n      <td>0.000000</td>\n      <td>0.000000</td>\n      <td>0.000000</td>\n      <td>0.000000</td>\n      <td>1.626387</td>\n      <td>0.000000</td>\n      <td>0.000000</td>\n      <td>0.000000</td>\n      <td>...</td>\n      <td>0.000000</td>\n      <td>0.000000</td>\n      <td>0.000000</td>\n      <td>0.000000</td>\n      <td>0.000000</td>\n      <td>0.000000</td>\n      <td>0.000000</td>\n      <td>0.000000</td>\n      <td>0.000000</td>\n      <td>0.000000</td>\n    </tr>\n    <tr>\n      <th>75%</th>\n      <td>0.000000</td>\n      <td>0.000000</td>\n      <td>0.000000</td>\n      <td>0.000000</td>\n      <td>0.000000</td>\n      <td>0.000000</td>\n      <td>2.427323</td>\n      <td>0.000000</td>\n      <td>0.000000</td>\n      <td>0.000000</td>\n      <td>...</td>\n      <td>0.000000</td>\n      <td>0.000000</td>\n      <td>0.000000</td>\n      <td>0.000000</td>\n      <td>0.000000</td>\n      <td>0.000000</td>\n      <td>0.000000</td>\n      <td>0.000000</td>\n      <td>0.000000</td>\n      <td>0.000000</td>\n    </tr>\n    <tr>\n      <th>max</th>\n      <td>0.823251</td>\n      <td>0.953000</td>\n      <td>1.159003</td>\n      <td>2.176398</td>\n      <td>0.927066</td>\n      <td>2.231160</td>\n      <td>5.175874</td>\n      <td>1.898126</td>\n      <td>2.472356</td>\n      <td>2.879868</td>\n      <td>...</td>\n      <td>1.468089</td>\n      <td>1.580605</td>\n      <td>1.017806</td>\n      <td>1.538911</td>\n      <td>1.213284</td>\n      <td>1.514670</td>\n      <td>1.494599</td>\n      <td>0.996147</td>\n      <td>1.607041</td>\n      <td>2.438123</td>\n    </tr>\n  </tbody>\n</table>\n<p>8 rows × 6998 columns</p>\n</div>"
     },
     "execution_count": 32,
     "metadata": {},
     "output_type": "execute_result"
    }
   ],
   "source": [
    "cd4t_df = train_adata_by_cell_type['CD4T'].to_df()\n",
    "cd4t_df.describe()"
   ],
   "metadata": {
    "collapsed": false
   }
  },
  {
   "cell_type": "code",
   "execution_count": null,
   "outputs": [],
   "source": [],
   "metadata": {
    "collapsed": false
   }
  }
 ],
 "metadata": {
  "kernelspec": {
   "display_name": "Python 3",
   "language": "python",
   "name": "python3"
  },
  "language_info": {
   "codemirror_mode": {
    "name": "ipython",
    "version": 2
   },
   "file_extension": ".py",
   "mimetype": "text/x-python",
   "name": "python",
   "nbconvert_exporter": "python",
   "pygments_lexer": "ipython2",
   "version": "2.7.6"
  }
 },
 "nbformat": 4,
 "nbformat_minor": 0
}
