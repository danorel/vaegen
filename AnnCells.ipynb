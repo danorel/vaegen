{
 "cells": [
  {
   "cell_type": "code",
   "execution_count": 28,
   "metadata": {
    "collapsed": true
   },
   "outputs": [],
   "source": [
    "import scgen\n",
    "import numpy as np\n",
    "import scanpy as sc\n",
    "import matplotlib.pyplot as plt\n",
    "import warnings\n",
    "warnings.filterwarnings('ignore')"
   ]
  },
  {
   "cell_type": "code",
   "execution_count": 29,
   "outputs": [],
   "source": [
    "anndata = sc.read(\"./tests/data/train_kang.h5ad\",\n",
    "                  backup_url='https://drive.google.com/uc?id=1r87vhoLLq6PXAYdmyyd89zG90eJOFYLk')"
   ],
   "metadata": {
    "collapsed": false
   }
  },
  {
   "cell_type": "code",
   "execution_count": 30,
   "outputs": [],
   "source": [
    "anndata_by_cell_type = {}\n",
    "\n",
    "cell_types = anndata.obs.cell_type.cat.categories.values\n",
    "\n",
    "for cell_type in cell_types:\n",
    "    anndata_by_cell_type[cell_type] = anndata[anndata.obs.cell_type == cell_type]"
   ],
   "metadata": {
    "collapsed": false
   }
  },
  {
   "cell_type": "code",
   "execution_count": 31,
   "outputs": [
    {
     "data": {
      "text/plain": "{'CD4T': View of AnnData object with n_obs × n_vars = 5564 × 6998\n     obs: 'condition', 'n_counts', 'n_genes', 'mt_frac', 'cell_type'\n     var: 'gene_symbol', 'n_cells'\n     uns: 'cell_type_colors', 'condition_colors', 'neighbors'\n     obsm: 'X_pca', 'X_tsne', 'X_umap'\n     obsp: 'distances', 'connectivities',\n 'CD14+Mono': View of AnnData object with n_obs × n_vars = 2561 × 6998\n     obs: 'condition', 'n_counts', 'n_genes', 'mt_frac', 'cell_type'\n     var: 'gene_symbol', 'n_cells'\n     uns: 'cell_type_colors', 'condition_colors', 'neighbors'\n     obsm: 'X_pca', 'X_tsne', 'X_umap'\n     obsp: 'distances', 'connectivities',\n 'B': View of AnnData object with n_obs × n_vars = 1811 × 6998\n     obs: 'condition', 'n_counts', 'n_genes', 'mt_frac', 'cell_type'\n     var: 'gene_symbol', 'n_cells'\n     uns: 'cell_type_colors', 'condition_colors', 'neighbors'\n     obsm: 'X_pca', 'X_tsne', 'X_umap'\n     obsp: 'distances', 'connectivities',\n 'CD8T': View of AnnData object with n_obs × n_vars = 1115 × 6998\n     obs: 'condition', 'n_counts', 'n_genes', 'mt_frac', 'cell_type'\n     var: 'gene_symbol', 'n_cells'\n     uns: 'cell_type_colors', 'condition_colors', 'neighbors'\n     obsm: 'X_pca', 'X_tsne', 'X_umap'\n     obsp: 'distances', 'connectivities',\n 'NK': View of AnnData object with n_obs × n_vars = 1163 × 6998\n     obs: 'condition', 'n_counts', 'n_genes', 'mt_frac', 'cell_type'\n     var: 'gene_symbol', 'n_cells'\n     uns: 'cell_type_colors', 'condition_colors', 'neighbors'\n     obsm: 'X_pca', 'X_tsne', 'X_umap'\n     obsp: 'distances', 'connectivities',\n 'FCGR3A+Mono': View of AnnData object with n_obs × n_vars = 3601 × 6998\n     obs: 'condition', 'n_counts', 'n_genes', 'mt_frac', 'cell_type'\n     var: 'gene_symbol', 'n_cells'\n     uns: 'cell_type_colors', 'condition_colors', 'neighbors'\n     obsm: 'X_pca', 'X_tsne', 'X_umap'\n     obsp: 'distances', 'connectivities',\n 'Dendritic': View of AnnData object with n_obs × n_vars = 1078 × 6998\n     obs: 'condition', 'n_counts', 'n_genes', 'mt_frac', 'cell_type'\n     var: 'gene_symbol', 'n_cells'\n     uns: 'cell_type_colors', 'condition_colors', 'neighbors'\n     obsm: 'X_pca', 'X_tsne', 'X_umap'\n     obsp: 'distances', 'connectivities'}"
     },
     "execution_count": 31,
     "metadata": {},
     "output_type": "execute_result"
    }
   ],
   "source": [
    "anndata_by_cell_type"
   ],
   "metadata": {
    "collapsed": false
   }
  },
  {
   "cell_type": "code",
   "execution_count": 32,
   "outputs": [
    {
     "data": {
      "text/plain": "index   AL627309.1  RP11-206L10.9    LINC00115        NOC2L       KLHL17  \\\ncount  5564.000000    5564.000000  5564.000000  5564.000000  5564.000000   \nmean      0.000290       0.000295     0.004717     0.081097     0.000599   \nstd       0.015311       0.015755     0.063308     0.254489     0.022557   \nmin       0.000000       0.000000     0.000000     0.000000     0.000000   \n25%       0.000000       0.000000     0.000000     0.000000     0.000000   \n50%       0.000000       0.000000     0.000000     0.000000     0.000000   \n75%       0.000000       0.000000     0.000000     0.000000     0.000000   \nmax       0.823251       0.953000     1.159003     2.176398     0.927066   \n\nindex         HES4        ISG15     TNFRSF18      TNFRSF4         SDF4  ...  \\\ncount  5564.000000  5564.000000  5564.000000  5564.000000  5564.000000  ...   \nmean      0.024535     1.396227     0.040431     0.091370     0.064878  ...   \nstd       0.154765     1.192688     0.189054     0.297386     0.230153  ...   \nmin       0.000000     0.000000     0.000000     0.000000     0.000000  ...   \n25%       0.000000     0.000000     0.000000     0.000000     0.000000  ...   \n50%       0.000000     1.626387     0.000000     0.000000     0.000000  ...   \n75%       0.000000     2.427323     0.000000     0.000000     0.000000  ...   \nmax       2.231160     5.175874     1.898126     2.472356     2.879868  ...   \n\nindex     C21orf67      FAM207A       ADARB1       POFUT2      COL18A1  \\\ncount  5564.000000  5564.000000  5564.000000  5564.000000  5564.000000   \nmean      0.000406     0.043993     0.004070     0.009166     0.009337   \nstd       0.022359     0.187557     0.057041     0.087452     0.087252   \nmin       0.000000     0.000000     0.000000     0.000000     0.000000   \n25%       0.000000     0.000000     0.000000     0.000000     0.000000   \n50%       0.000000     0.000000     0.000000     0.000000     0.000000   \n75%       0.000000     0.000000     0.000000     0.000000     0.000000   \nmax       1.468089     1.580605     1.017806     1.538911     1.213284   \n\nindex      SLC19A1       COL6A2         FTCD        DIP2A        S100B  \ncount  5564.000000  5564.000000  5564.000000  5564.000000  5564.000000  \nmean      0.004598     0.001317     0.000346     0.020588     0.021828  \nstd       0.064468     0.036036     0.018251     0.131128     0.152459  \nmin       0.000000     0.000000     0.000000     0.000000     0.000000  \n25%       0.000000     0.000000     0.000000     0.000000     0.000000  \n50%       0.000000     0.000000     0.000000     0.000000     0.000000  \n75%       0.000000     0.000000     0.000000     0.000000     0.000000  \nmax       1.514670     1.494599     0.996147     1.607041     2.438123  \n\n[8 rows x 6998 columns]",
      "text/html": "<div>\n<style scoped>\n    .dataframe tbody tr th:only-of-type {\n        vertical-align: middle;\n    }\n\n    .dataframe tbody tr th {\n        vertical-align: top;\n    }\n\n    .dataframe thead th {\n        text-align: right;\n    }\n</style>\n<table border=\"1\" class=\"dataframe\">\n  <thead>\n    <tr style=\"text-align: right;\">\n      <th>index</th>\n      <th>AL627309.1</th>\n      <th>RP11-206L10.9</th>\n      <th>LINC00115</th>\n      <th>NOC2L</th>\n      <th>KLHL17</th>\n      <th>HES4</th>\n      <th>ISG15</th>\n      <th>TNFRSF18</th>\n      <th>TNFRSF4</th>\n      <th>SDF4</th>\n      <th>...</th>\n      <th>C21orf67</th>\n      <th>FAM207A</th>\n      <th>ADARB1</th>\n      <th>POFUT2</th>\n      <th>COL18A1</th>\n      <th>SLC19A1</th>\n      <th>COL6A2</th>\n      <th>FTCD</th>\n      <th>DIP2A</th>\n      <th>S100B</th>\n    </tr>\n  </thead>\n  <tbody>\n    <tr>\n      <th>count</th>\n      <td>5564.000000</td>\n      <td>5564.000000</td>\n      <td>5564.000000</td>\n      <td>5564.000000</td>\n      <td>5564.000000</td>\n      <td>5564.000000</td>\n      <td>5564.000000</td>\n      <td>5564.000000</td>\n      <td>5564.000000</td>\n      <td>5564.000000</td>\n      <td>...</td>\n      <td>5564.000000</td>\n      <td>5564.000000</td>\n      <td>5564.000000</td>\n      <td>5564.000000</td>\n      <td>5564.000000</td>\n      <td>5564.000000</td>\n      <td>5564.000000</td>\n      <td>5564.000000</td>\n      <td>5564.000000</td>\n      <td>5564.000000</td>\n    </tr>\n    <tr>\n      <th>mean</th>\n      <td>0.000290</td>\n      <td>0.000295</td>\n      <td>0.004717</td>\n      <td>0.081097</td>\n      <td>0.000599</td>\n      <td>0.024535</td>\n      <td>1.396227</td>\n      <td>0.040431</td>\n      <td>0.091370</td>\n      <td>0.064878</td>\n      <td>...</td>\n      <td>0.000406</td>\n      <td>0.043993</td>\n      <td>0.004070</td>\n      <td>0.009166</td>\n      <td>0.009337</td>\n      <td>0.004598</td>\n      <td>0.001317</td>\n      <td>0.000346</td>\n      <td>0.020588</td>\n      <td>0.021828</td>\n    </tr>\n    <tr>\n      <th>std</th>\n      <td>0.015311</td>\n      <td>0.015755</td>\n      <td>0.063308</td>\n      <td>0.254489</td>\n      <td>0.022557</td>\n      <td>0.154765</td>\n      <td>1.192688</td>\n      <td>0.189054</td>\n      <td>0.297386</td>\n      <td>0.230153</td>\n      <td>...</td>\n      <td>0.022359</td>\n      <td>0.187557</td>\n      <td>0.057041</td>\n      <td>0.087452</td>\n      <td>0.087252</td>\n      <td>0.064468</td>\n      <td>0.036036</td>\n      <td>0.018251</td>\n      <td>0.131128</td>\n      <td>0.152459</td>\n    </tr>\n    <tr>\n      <th>min</th>\n      <td>0.000000</td>\n      <td>0.000000</td>\n      <td>0.000000</td>\n      <td>0.000000</td>\n      <td>0.000000</td>\n      <td>0.000000</td>\n      <td>0.000000</td>\n      <td>0.000000</td>\n      <td>0.000000</td>\n      <td>0.000000</td>\n      <td>...</td>\n      <td>0.000000</td>\n      <td>0.000000</td>\n      <td>0.000000</td>\n      <td>0.000000</td>\n      <td>0.000000</td>\n      <td>0.000000</td>\n      <td>0.000000</td>\n      <td>0.000000</td>\n      <td>0.000000</td>\n      <td>0.000000</td>\n    </tr>\n    <tr>\n      <th>25%</th>\n      <td>0.000000</td>\n      <td>0.000000</td>\n      <td>0.000000</td>\n      <td>0.000000</td>\n      <td>0.000000</td>\n      <td>0.000000</td>\n      <td>0.000000</td>\n      <td>0.000000</td>\n      <td>0.000000</td>\n      <td>0.000000</td>\n      <td>...</td>\n      <td>0.000000</td>\n      <td>0.000000</td>\n      <td>0.000000</td>\n      <td>0.000000</td>\n      <td>0.000000</td>\n      <td>0.000000</td>\n      <td>0.000000</td>\n      <td>0.000000</td>\n      <td>0.000000</td>\n      <td>0.000000</td>\n    </tr>\n    <tr>\n      <th>50%</th>\n      <td>0.000000</td>\n      <td>0.000000</td>\n      <td>0.000000</td>\n      <td>0.000000</td>\n      <td>0.000000</td>\n      <td>0.000000</td>\n      <td>1.626387</td>\n      <td>0.000000</td>\n      <td>0.000000</td>\n      <td>0.000000</td>\n      <td>...</td>\n      <td>0.000000</td>\n      <td>0.000000</td>\n      <td>0.000000</td>\n      <td>0.000000</td>\n      <td>0.000000</td>\n      <td>0.000000</td>\n      <td>0.000000</td>\n      <td>0.000000</td>\n      <td>0.000000</td>\n      <td>0.000000</td>\n    </tr>\n    <tr>\n      <th>75%</th>\n      <td>0.000000</td>\n      <td>0.000000</td>\n      <td>0.000000</td>\n      <td>0.000000</td>\n      <td>0.000000</td>\n      <td>0.000000</td>\n      <td>2.427323</td>\n      <td>0.000000</td>\n      <td>0.000000</td>\n      <td>0.000000</td>\n      <td>...</td>\n      <td>0.000000</td>\n      <td>0.000000</td>\n      <td>0.000000</td>\n      <td>0.000000</td>\n      <td>0.000000</td>\n      <td>0.000000</td>\n      <td>0.000000</td>\n      <td>0.000000</td>\n      <td>0.000000</td>\n      <td>0.000000</td>\n    </tr>\n    <tr>\n      <th>max</th>\n      <td>0.823251</td>\n      <td>0.953000</td>\n      <td>1.159003</td>\n      <td>2.176398</td>\n      <td>0.927066</td>\n      <td>2.231160</td>\n      <td>5.175874</td>\n      <td>1.898126</td>\n      <td>2.472356</td>\n      <td>2.879868</td>\n      <td>...</td>\n      <td>1.468089</td>\n      <td>1.580605</td>\n      <td>1.017806</td>\n      <td>1.538911</td>\n      <td>1.213284</td>\n      <td>1.514670</td>\n      <td>1.494599</td>\n      <td>0.996147</td>\n      <td>1.607041</td>\n      <td>2.438123</td>\n    </tr>\n  </tbody>\n</table>\n<p>8 rows × 6998 columns</p>\n</div>"
     },
     "execution_count": 32,
     "metadata": {},
     "output_type": "execute_result"
    }
   ],
   "source": [
    "cd4t_df = anndata_by_cell_type['CD4T'].to_df()\n",
    "cd4t_df.describe()"
   ],
   "metadata": {
    "collapsed": false
   }
  },
  {
   "cell_type": "code",
   "execution_count": null,
   "outputs": [],
   "source": [
    "for column in cd4t_df.columns:\n",
    "    if cd4t_df[column].isnull().sum() > 0:\n",
    "        print(column, ': {:.2%}'.format(cd4t_df[column].isnull().sum() /\n",
    "                                        cd4t_df[column].shape[0]))"
   ],
   "metadata": {
    "collapsed": false
   }
  },
  {
   "cell_type": "markdown",
   "source": [
    "Conclusion: There are no missing gene values"
   ],
   "metadata": {
    "collapsed": false
   }
  },
  {
   "cell_type": "code",
   "execution_count": 46,
   "outputs": [
    {
     "data": {
      "text/plain": "index   AL627309.1  RP11-206L10.9    LINC00115        NOC2L       KLHL17  \\\ncount  3601.000000    3601.000000  3601.000000  3601.000000  3601.000000   \nmean      0.000070       0.000315     0.002990     0.020351     0.000382   \nstd       0.004207       0.013388     0.039265     0.100650     0.017022   \nmin       0.000000       0.000000     0.000000     0.000000     0.000000   \n25%       0.000000       0.000000     0.000000     0.000000     0.000000   \n50%       0.000000       0.000000     0.000000     0.000000     0.000000   \n75%       0.000000       0.000000     0.000000     0.000000     0.000000   \nmax       0.252454       0.592408     0.762286     1.077075     0.907621   \n\nindex         HES4        ISG15     TNFRSF18      TNFRSF4         SDF4  ...  \\\ncount  3601.000000  3601.000000  3601.000000  3601.000000  3601.000000  ...   \nmean      0.321360     3.097102     0.009016     0.009736     0.045875  ...   \nstd       0.457502     1.812274     0.073907     0.077094     0.153640  ...   \nmin       0.000000     0.000000     0.000000     0.000000     0.000000  ...   \n25%       0.000000     0.952466     0.000000     0.000000     0.000000  ...   \n50%       0.000000     4.007938     0.000000     0.000000     0.000000  ...   \n75%       0.596578     4.427419     0.000000     0.000000     0.000000  ...   \nmax       2.279583     5.445781     1.123406     1.151281     1.238810  ...   \n\nindex     C21orf67      FAM207A       ADARB1       POFUT2      COL18A1  \\\ncount  3601.000000  3601.000000  3601.000000  3601.000000  3601.000000   \nmean      0.000179     0.010504     0.001876     0.003571     0.001204   \nstd       0.007659     0.073966     0.029295     0.043810     0.027396   \nmin       0.000000     0.000000     0.000000     0.000000     0.000000   \n25%       0.000000     0.000000     0.000000     0.000000     0.000000   \n50%       0.000000     0.000000     0.000000     0.000000     0.000000   \n75%       0.000000     0.000000     0.000000     0.000000     0.000000   \nmax       0.360421     1.051624     0.643981     0.820134     0.939582   \n\nindex      SLC19A1       COL6A2    FTCD        DIP2A        S100B  \ncount  3601.000000  3601.000000  3601.0  3601.000000  3601.000000  \nmean      0.000915     0.000244     0.0     0.006154     0.000507  \nstd       0.023065     0.010348     0.0     0.055408     0.013735  \nmin       0.000000     0.000000     0.0     0.000000     0.000000  \n25%       0.000000     0.000000     0.0     0.000000     0.000000  \n50%       0.000000     0.000000     0.0     0.000000     0.000000  \n75%       0.000000     0.000000     0.0     0.000000     0.000000  \nmax       0.713534     0.456322     0.0     0.882176     0.426932  \n\n[8 rows x 6998 columns]",
      "text/html": "<div>\n<style scoped>\n    .dataframe tbody tr th:only-of-type {\n        vertical-align: middle;\n    }\n\n    .dataframe tbody tr th {\n        vertical-align: top;\n    }\n\n    .dataframe thead th {\n        text-align: right;\n    }\n</style>\n<table border=\"1\" class=\"dataframe\">\n  <thead>\n    <tr style=\"text-align: right;\">\n      <th>index</th>\n      <th>AL627309.1</th>\n      <th>RP11-206L10.9</th>\n      <th>LINC00115</th>\n      <th>NOC2L</th>\n      <th>KLHL17</th>\n      <th>HES4</th>\n      <th>ISG15</th>\n      <th>TNFRSF18</th>\n      <th>TNFRSF4</th>\n      <th>SDF4</th>\n      <th>...</th>\n      <th>C21orf67</th>\n      <th>FAM207A</th>\n      <th>ADARB1</th>\n      <th>POFUT2</th>\n      <th>COL18A1</th>\n      <th>SLC19A1</th>\n      <th>COL6A2</th>\n      <th>FTCD</th>\n      <th>DIP2A</th>\n      <th>S100B</th>\n    </tr>\n  </thead>\n  <tbody>\n    <tr>\n      <th>count</th>\n      <td>3601.000000</td>\n      <td>3601.000000</td>\n      <td>3601.000000</td>\n      <td>3601.000000</td>\n      <td>3601.000000</td>\n      <td>3601.000000</td>\n      <td>3601.000000</td>\n      <td>3601.000000</td>\n      <td>3601.000000</td>\n      <td>3601.000000</td>\n      <td>...</td>\n      <td>3601.000000</td>\n      <td>3601.000000</td>\n      <td>3601.000000</td>\n      <td>3601.000000</td>\n      <td>3601.000000</td>\n      <td>3601.000000</td>\n      <td>3601.000000</td>\n      <td>3601.0</td>\n      <td>3601.000000</td>\n      <td>3601.000000</td>\n    </tr>\n    <tr>\n      <th>mean</th>\n      <td>0.000070</td>\n      <td>0.000315</td>\n      <td>0.002990</td>\n      <td>0.020351</td>\n      <td>0.000382</td>\n      <td>0.321360</td>\n      <td>3.097102</td>\n      <td>0.009016</td>\n      <td>0.009736</td>\n      <td>0.045875</td>\n      <td>...</td>\n      <td>0.000179</td>\n      <td>0.010504</td>\n      <td>0.001876</td>\n      <td>0.003571</td>\n      <td>0.001204</td>\n      <td>0.000915</td>\n      <td>0.000244</td>\n      <td>0.0</td>\n      <td>0.006154</td>\n      <td>0.000507</td>\n    </tr>\n    <tr>\n      <th>std</th>\n      <td>0.004207</td>\n      <td>0.013388</td>\n      <td>0.039265</td>\n      <td>0.100650</td>\n      <td>0.017022</td>\n      <td>0.457502</td>\n      <td>1.812274</td>\n      <td>0.073907</td>\n      <td>0.077094</td>\n      <td>0.153640</td>\n      <td>...</td>\n      <td>0.007659</td>\n      <td>0.073966</td>\n      <td>0.029295</td>\n      <td>0.043810</td>\n      <td>0.027396</td>\n      <td>0.023065</td>\n      <td>0.010348</td>\n      <td>0.0</td>\n      <td>0.055408</td>\n      <td>0.013735</td>\n    </tr>\n    <tr>\n      <th>min</th>\n      <td>0.000000</td>\n      <td>0.000000</td>\n      <td>0.000000</td>\n      <td>0.000000</td>\n      <td>0.000000</td>\n      <td>0.000000</td>\n      <td>0.000000</td>\n      <td>0.000000</td>\n      <td>0.000000</td>\n      <td>0.000000</td>\n      <td>...</td>\n      <td>0.000000</td>\n      <td>0.000000</td>\n      <td>0.000000</td>\n      <td>0.000000</td>\n      <td>0.000000</td>\n      <td>0.000000</td>\n      <td>0.000000</td>\n      <td>0.0</td>\n      <td>0.000000</td>\n      <td>0.000000</td>\n    </tr>\n    <tr>\n      <th>25%</th>\n      <td>0.000000</td>\n      <td>0.000000</td>\n      <td>0.000000</td>\n      <td>0.000000</td>\n      <td>0.000000</td>\n      <td>0.000000</td>\n      <td>0.952466</td>\n      <td>0.000000</td>\n      <td>0.000000</td>\n      <td>0.000000</td>\n      <td>...</td>\n      <td>0.000000</td>\n      <td>0.000000</td>\n      <td>0.000000</td>\n      <td>0.000000</td>\n      <td>0.000000</td>\n      <td>0.000000</td>\n      <td>0.000000</td>\n      <td>0.0</td>\n      <td>0.000000</td>\n      <td>0.000000</td>\n    </tr>\n    <tr>\n      <th>50%</th>\n      <td>0.000000</td>\n      <td>0.000000</td>\n      <td>0.000000</td>\n      <td>0.000000</td>\n      <td>0.000000</td>\n      <td>0.000000</td>\n      <td>4.007938</td>\n      <td>0.000000</td>\n      <td>0.000000</td>\n      <td>0.000000</td>\n      <td>...</td>\n      <td>0.000000</td>\n      <td>0.000000</td>\n      <td>0.000000</td>\n      <td>0.000000</td>\n      <td>0.000000</td>\n      <td>0.000000</td>\n      <td>0.000000</td>\n      <td>0.0</td>\n      <td>0.000000</td>\n      <td>0.000000</td>\n    </tr>\n    <tr>\n      <th>75%</th>\n      <td>0.000000</td>\n      <td>0.000000</td>\n      <td>0.000000</td>\n      <td>0.000000</td>\n      <td>0.000000</td>\n      <td>0.596578</td>\n      <td>4.427419</td>\n      <td>0.000000</td>\n      <td>0.000000</td>\n      <td>0.000000</td>\n      <td>...</td>\n      <td>0.000000</td>\n      <td>0.000000</td>\n      <td>0.000000</td>\n      <td>0.000000</td>\n      <td>0.000000</td>\n      <td>0.000000</td>\n      <td>0.000000</td>\n      <td>0.0</td>\n      <td>0.000000</td>\n      <td>0.000000</td>\n    </tr>\n    <tr>\n      <th>max</th>\n      <td>0.252454</td>\n      <td>0.592408</td>\n      <td>0.762286</td>\n      <td>1.077075</td>\n      <td>0.907621</td>\n      <td>2.279583</td>\n      <td>5.445781</td>\n      <td>1.123406</td>\n      <td>1.151281</td>\n      <td>1.238810</td>\n      <td>...</td>\n      <td>0.360421</td>\n      <td>1.051624</td>\n      <td>0.643981</td>\n      <td>0.820134</td>\n      <td>0.939582</td>\n      <td>0.713534</td>\n      <td>0.456322</td>\n      <td>0.0</td>\n      <td>0.882176</td>\n      <td>0.426932</td>\n    </tr>\n  </tbody>\n</table>\n<p>8 rows × 6998 columns</p>\n</div>"
     },
     "execution_count": 46,
     "metadata": {},
     "output_type": "execute_result"
    }
   ],
   "source": [
    "fmono_df = anndata_by_cell_type['FCGR3A+Mono'].to_df()\n",
    "fmono_df.describe()"
   ],
   "metadata": {
    "collapsed": false
   }
  },
  {
   "cell_type": "code",
   "execution_count": 47,
   "outputs": [],
   "source": [
    "for column in fmono_df.columns:\n",
    "    if fmono_df[column].isnull().sum() > 0:\n",
    "        print(column, ': {:.2%}'.format(fmono_df[column].isnull().sum() /\n",
    "                                        fmono_df[column].shape[0]))"
   ],
   "metadata": {
    "collapsed": false
   }
  },
  {
   "cell_type": "markdown",
   "source": [
    "Conclusion: Same here! There are no missing gene values"
   ],
   "metadata": {
    "collapsed": false
   }
  }
 ],
 "metadata": {
  "kernelspec": {
   "display_name": "Python 3",
   "language": "python",
   "name": "python3"
  },
  "language_info": {
   "codemirror_mode": {
    "name": "ipython",
    "version": 2
   },
   "file_extension": ".py",
   "mimetype": "text/x-python",
   "name": "python",
   "nbconvert_exporter": "python",
   "pygments_lexer": "ipython2",
   "version": "2.7.6"
  }
 },
 "nbformat": 4,
 "nbformat_minor": 0
}
